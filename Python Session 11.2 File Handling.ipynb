{
 "cells": [
  {
   "cell_type": "markdown",
   "metadata": {},
   "source": [
    "### File Handling\n",
    "\n",
    "- File handling is an important part of any web application.\n",
    "\n",
    "- Python has several functions for creating, reading, updating, and deleting file\n",
    "\n",
    "#### File Handling\n",
    "- The key function for working with files in Python is the open() function.\n",
    "\n",
    "- The open() function takes two parameters; filename, and mode.\n",
    "\n",
    "-There are four different methods (modes) for opening a file:\n",
    "\n",
    "\"r\" - Read - Default value. Opens a file for reading, error if the file does not exist\n",
    "\n",
    "\"a\" - Append - Opens a file for appending, creates the file if it does not exist\n",
    "\n",
    "\"w\" - Write - Opens a file for writing, creates the file if it does not exist\n",
    "\n",
    "\"x\" - Create - Creates the specified file, returns an error if the file exists\n",
    "\n",
    "- In addition you can specify if the file should be handled as binary or text mode.\n",
    "\n",
    "\"t\" - Text -Default Value.Text Mode.\n",
    "\n",
    "\"b\"-  Binary - Binary Mode(eg. images)"
   ]
  },
  {
   "cell_type": "markdown",
   "metadata": {},
   "source": [
    "- To open the file ,use the built -in open() function.\n",
    "- The open() function returns a file object,which has a read() method for reading the content of the file."
   ]
  },
  {
   "cell_type": "code",
   "execution_count": 5,
   "metadata": {},
   "outputs": [
    {
     "name": "stdout",
     "output_type": "stream",
     "text": [
      "Data science is an inter-disciplinary field that uses scientific methods, processes, algorithms and systems to extract knowledge and insights from many structural and unstructured data.\n",
      "Data science is related to data mining, machine learning and big data.\n",
      "Data science is a \"concept to unify statistics, data analysis, machine learning, domain knowledge and their related methods\" in order to \"understand and analyze actual phenomena\" with data\n",
      "\n"
     ]
    }
   ],
   "source": [
    "# File_name(Optional name) = Open \n",
    "file_txt = open(\"Sample.txt\",\"r\")\n",
    "print(file_txt.read())"
   ]
  },
  {
   "cell_type": "code",
   "execution_count": 9,
   "metadata": {},
   "outputs": [
    {
     "data": {
      "text/plain": [
       "'Data science is an inter-disciplinary field that uses scientific methods, processes, algorithms and systems to extract knowledge and insights from many structural and unstructured data.\\nData science is related to data mining, machine learning and big data.\\nData science is a \"concept to unify statistics, data analysis, machine learning, domain knowledge and their related methods\" in order to \"understand and analyze actual phenomena\" with data\\n'"
      ]
     },
     "execution_count": 9,
     "metadata": {},
     "output_type": "execute_result"
    }
   ],
   "source": [
    "file_txt = open(\"E:/Desktop/DataFolkz/SampleNew.txt\")\n",
    "file_txt.read()"
   ]
  },
  {
   "cell_type": "code",
   "execution_count": 10,
   "metadata": {},
   "outputs": [
    {
     "data": {
      "text/plain": [
       "'Data science is an inter-disciplinary field that uses scientific methods, processes, algorithms and systems to extract knowledge and insights from many structural and unstructured data.\\nData science is related to data mining, machine learning and big data.\\nData science is a \"concept to unify statistics, data analysis, machine learning, domain knowledge and their related methods\" in order to \"understand and analyze actual phenomena\" with data\\n'"
      ]
     },
     "execution_count": 10,
     "metadata": {},
     "output_type": "execute_result"
    }
   ],
   "source": [
    "file_txt = open(\"C:/Users/hp/Desktop/Notebook_Datafolkz/SampleNew.txt\")\n",
    "file_txt.read()"
   ]
  },
  {
   "cell_type": "code",
   "execution_count": 1,
   "metadata": {},
   "outputs": [
    {
     "name": "stdout",
     "output_type": "stream",
     "text": [
      "Data scien\n"
     ]
    }
   ],
   "source": [
    "# Return the 10 first characters of the file.\n",
    "file_txt = open(\"Sample.txt\", \"r\")\n",
    "print(file_txt.read(10))"
   ]
  },
  {
   "cell_type": "markdown",
   "metadata": {},
   "source": [
    "# Read Lines\n",
    "- You can return one line by using readline() method.\n",
    "- Example\n",
    "- Read one line of the file."
   ]
  },
  {
   "cell_type": "code",
   "execution_count": 6,
   "metadata": {},
   "outputs": [
    {
     "name": "stdout",
     "output_type": "stream",
     "text": [
      "Data science is an inter-disciplinary field that uses scientific methods, processes, algorithms and systems to extract knowledge and insights from many structural and unstructured data.\n",
      "\n"
     ]
    }
   ],
   "source": [
    "# To read the first line\n",
    "file_txt = open(\"Sample.txt\", \"r\")\n",
    "print(file_txt.readline())"
   ]
  },
  {
   "cell_type": "code",
   "execution_count": 7,
   "metadata": {},
   "outputs": [
    {
     "name": "stdout",
     "output_type": "stream",
     "text": [
      "Data science is an inter-disciplinary field that uses scientific methods, processes, algorithms and systems to extract knowledge and insights from many structural and unstructured data.\n",
      "\n",
      "Data science is related to data mining, machine learning and big data.\n",
      "\n"
     ]
    }
   ],
   "source": [
    "# To read the first two lines.\n",
    "file_txt = open(\"Sample.txt\", \"r\")\n",
    "print(file_txt.readline())\n",
    "print(file_txt.readline())"
   ]
  },
  {
   "cell_type": "code",
   "execution_count": 3,
   "metadata": {},
   "outputs": [
    {
     "name": "stdout",
     "output_type": "stream",
     "text": [
      "Data science is an inter-disciplinary field that uses scientific methods, processes, algorithms and systems to extract knowledge and insights from many structural and unstructured data.\n",
      "\n",
      "Data science is related to data mining, machine learning and big data.\n",
      "\n",
      "Data science is a \"concept to unify statistics, data analysis, machine learning, domain knowledge and their related methods\" in order to \"understand and analyze actual phenomena\" with data\n",
      "\n"
     ]
    }
   ],
   "source": [
    "# To read first three lines\n",
    "file_txt = open(\"Sample.txt\", \"r\")\n",
    "print(file_txt.readline())\n",
    "print(file_txt.readline())\n",
    "print(file_txt.readline())\n"
   ]
  },
  {
   "cell_type": "markdown",
   "metadata": {},
   "source": [
    "- readlines() function would help us to read the lines of the files.\n",
    "- But using the readlines() we can also give the index and gives the specifications."
   ]
  },
  {
   "cell_type": "code",
   "execution_count": 10,
   "metadata": {},
   "outputs": [
    {
     "data": {
      "text/plain": [
       "'Data science is an inter-disciplinary field that uses scientific methods, processes, algorithms and systems to extract knowledge and insights from many structural and unstructured data.\\n'"
      ]
     },
     "execution_count": 10,
     "metadata": {},
     "output_type": "execute_result"
    }
   ],
   "source": [
    "# Using the index of readlines we can specify whichlines we want to read in perticular.\n",
    "file_txt = open(\"Sample.txt\", \"r\")\n",
    "file_txt.readlines()[0]"
   ]
  },
  {
   "cell_type": "code",
   "execution_count": 11,
   "metadata": {},
   "outputs": [
    {
     "data": {
      "text/plain": [
       "'Data science is related to data mining, machine learning and big data.\\n'"
      ]
     },
     "execution_count": 11,
     "metadata": {},
     "output_type": "execute_result"
    }
   ],
   "source": [
    "# Using the index of readlines we can specify whichlines we want to read in perticular.\n",
    "# Using the index to read the second line,so the index should be one.\n",
    "file_txt = open(\"Sample.txt\", \"r\")\n",
    "file_txt.readlines()[1]"
   ]
  },
  {
   "cell_type": "code",
   "execution_count": 12,
   "metadata": {},
   "outputs": [
    {
     "data": {
      "text/plain": [
       "'Data science is a \"concept to unify statistics, data analysis, machine learning, domain knowledge and their related methods\" in order to \"understand and analyze actual phenomena\" with data\\n'"
      ]
     },
     "execution_count": 12,
     "metadata": {},
     "output_type": "execute_result"
    }
   ],
   "source": [
    "# Using the index of readlines we can specify whichlines we want to read in perticular.\n",
    "# Using the index to read the third line,so the index should be two.\n",
    "file_txt = open(\"Sample.txt\", \"r\")\n",
    "file_txt.readlines()[2]"
   ]
  },
  {
   "cell_type": "markdown",
   "metadata": {},
   "source": [
    "- By looping through the lines of the file, you can read the whole file,line by line."
   ]
  },
  {
   "cell_type": "code",
   "execution_count": 13,
   "metadata": {},
   "outputs": [
    {
     "name": "stdout",
     "output_type": "stream",
     "text": [
      "Data science is an inter-disciplinary field that uses scientific methods, processes, algorithms and systems to extract knowledge and insights from many structural and unstructured data.\n",
      "\n",
      "Data science is related to data mining, machine learning and big data.\n",
      "\n",
      "Data science is a \"concept to unify statistics, data analysis, machine learning, domain knowledge and their related methods\" in order to \"understand and analyze actual phenomena\" with data\n",
      "\n"
     ]
    }
   ],
   "source": [
    "file_txt = open(\"Sample.txt\", \"r\")\n",
    "for x in file_txt:\n",
    "    print(x)"
   ]
  },
  {
   "cell_type": "markdown",
   "metadata": {},
   "source": [
    "# Close Files\n",
    "- It is  a good prctice to always close the file when you are done with it."
   ]
  },
  {
   "cell_type": "code",
   "execution_count": 15,
   "metadata": {},
   "outputs": [
    {
     "name": "stdout",
     "output_type": "stream",
     "text": [
      "Data science is an inter-disciplinary field that uses scientific methods, processes, algorithms and systems to extract knowledge and insights from many structural and unstructured data.\n",
      "\n"
     ]
    }
   ],
   "source": [
    "file_txt = open(\"Sample.txt\", \"r\")\n",
    "print(file_txt.readline())\n",
    "file_txt.close()"
   ]
  },
  {
   "cell_type": "code",
   "execution_count": 3,
   "metadata": {},
   "outputs": [],
   "source": [
    "file_txt = open(\"Sample.txt\", \"r\")\n",
    "file_txt.close()"
   ]
  },
  {
   "cell_type": "code",
   "execution_count": 4,
   "metadata": {},
   "outputs": [
    {
     "ename": "ValueError",
     "evalue": "I/O operation on closed file.",
     "output_type": "error",
     "traceback": [
      "\u001b[1;31m---------------------------------------------------------------------------\u001b[0m",
      "\u001b[1;31mValueError\u001b[0m                                Traceback (most recent call last)",
      "\u001b[1;32m<ipython-input-4-92488c44934b>\u001b[0m in \u001b[0;36m<module>\u001b[1;34m\u001b[0m\n\u001b[1;32m----> 1\u001b[1;33m \u001b[0mprint\u001b[0m\u001b[1;33m(\u001b[0m\u001b[0mfile_txt\u001b[0m\u001b[1;33m.\u001b[0m\u001b[0mread\u001b[0m\u001b[1;33m(\u001b[0m\u001b[1;33m)\u001b[0m\u001b[1;33m)\u001b[0m\u001b[1;33m\u001b[0m\u001b[1;33m\u001b[0m\u001b[0m\n\u001b[0m",
      "\u001b[1;31mValueError\u001b[0m: I/O operation on closed file."
     ]
    }
   ],
   "source": [
    "print(file_txt.read())"
   ]
  },
  {
   "cell_type": "markdown",
   "metadata": {},
   "source": [
    "- Note: You should always close your files, in some cases, due to buffering, changes made to a file may not show until you close the file."
   ]
  },
  {
   "cell_type": "markdown",
   "metadata": {},
   "source": [
    "#### Write to an Existing File\n",
    "- To write to an existing file, you must add a parameter to the open() function:\n",
    "\n",
    "\"a\" - Append - will append to the end of the file\n",
    "\n",
    "\"w\" - Write - will overwrite any existing content\n"
   ]
  },
  {
   "cell_type": "markdown",
   "metadata": {},
   "source": [
    "- Open the file \"Sample 2.txt\" and append content to the file."
   ]
  },
  {
   "cell_type": "code",
   "execution_count": 7,
   "metadata": {},
   "outputs": [],
   "source": [
    "file_txt2 = open(\"Sample 2.txt\", \"a\")\n",
    "file_txt2.write(\"ola!Now there is new content.\")\n",
    "file_txt2.close()"
   ]
  },
  {
   "cell_type": "code",
   "execution_count": 1,
   "metadata": {},
   "outputs": [
    {
     "name": "stdout",
     "output_type": "stream",
     "text": [
      "ola!Now there is new contentola!Now there is new contentola!Now there is new contentYou should always close your files, in some cases, due to buffering, changes made to a file may not show until you close the file.\n"
     ]
    }
   ],
   "source": [
    "# open and read the file after appending\n",
    "file_txt2 = open(\"Sample 2.txt\", \"r\")\n",
    "print(file_txt2.read())"
   ]
  },
  {
   "cell_type": "code",
   "execution_count": 6,
   "metadata": {},
   "outputs": [
    {
     "name": "stdout",
     "output_type": "stream",
     "text": [
      "ola!Now there is new contentola!Now there is new contentola!Now there is new contentYou should always close your files, in some cases, due to buffering, changes made to a file may not show until you close the file.ola!Now there is new content.ola!Now there is new content.\n"
     ]
    }
   ],
   "source": [
    "file_txt4 = open(\"Sample 2.txt\",\"r\")\n",
    "print(file_txt4.read())"
   ]
  },
  {
   "cell_type": "code",
   "execution_count": 50,
   "metadata": {},
   "outputs": [],
   "source": [
    "file_txt4 = open(\"Sample 4.txt\", \"a\")\n",
    "file_txt4.write(\"Data Science is the best course!\")\n",
    "file_txt4.close()"
   ]
  },
  {
   "cell_type": "code",
   "execution_count": 51,
   "metadata": {},
   "outputs": [
    {
     "name": "stdout",
     "output_type": "stream",
     "text": [
      "Best ! I am learning Data Science!ola!Now there is new contentola!Now there is new contentData Science is the best course!\n"
     ]
    }
   ],
   "source": [
    "file_txt4 = open(\"Sample 4.txt\", \"r\")\n",
    "print(file_txt4.read())"
   ]
  },
  {
   "cell_type": "markdown",
   "metadata": {},
   "source": [
    "- Deep learning is a machine learning technique that teaches computers to do what comes naturally to humans: learn by example.   Deep learning is a key technology behind driverless cars, enabling them to recognize a stop sign, or to distinguish a           pedestrian from a lamppost."
   ]
  },
  {
   "cell_type": "code",
   "execution_count": 3,
   "metadata": {},
   "outputs": [],
   "source": [
    "# When a particular file doesn't exists, it creates a file with that name\n",
    "file_txt10 = open(\"sample 10.txt\",\"a\")\n",
    "file_txt10.write(\"I am adding new content\")\n",
    "file_txt10.close()"
   ]
  },
  {
   "cell_type": "code",
   "execution_count": 5,
   "metadata": {},
   "outputs": [
    {
     "name": "stdout",
     "output_type": "stream",
     "text": [
      "I am adding new contentI am adding new contentI am adding new content\n"
     ]
    }
   ],
   "source": [
    "# open and read the file after appending\n",
    "file_txt10 = open(\"Sample 10.txt\", \"r\")\n",
    "print(file_txt10.read())"
   ]
  },
  {
   "cell_type": "code",
   "execution_count": 44,
   "metadata": {},
   "outputs": [],
   "source": [
    "# When a particular file doesn't exists, it creates a file with that name\n",
    "file_txt7 = open(\"sample 7.txt\",\"a\")\n",
    "file_txt7.write(\"Data Science is the best course!\")\n",
    "file_txt7.close()"
   ]
  },
  {
   "cell_type": "code",
   "execution_count": 45,
   "metadata": {},
   "outputs": [
    {
     "name": "stdout",
     "output_type": "stream",
     "text": [
      "Data Science is the best course!Data Science is the best course!Data Science is the best course!\n"
     ]
    }
   ],
   "source": [
    "# open and read the file after appending\n",
    "file_txt7 = open(\"Sample 7.txt\", \"r\")\n",
    "print(file_txt7.read())"
   ]
  },
  {
   "cell_type": "markdown",
   "metadata": {},
   "source": [
    "- Open the file \"Sample 3.txt\" and overwrite the content. "
   ]
  },
  {
   "cell_type": "code",
   "execution_count": 26,
   "metadata": {},
   "outputs": [
    {
     "name": "stdout",
     "output_type": "stream",
     "text": [
      "Woops ! I have deleted the content!\n"
     ]
    }
   ],
   "source": [
    "file_txt3 = open(\"Sample 3.txt\", \"w\")\n",
    "file_txt3.write(\"Woops ! I have deleted the content!\")\n",
    "file_txt3.close()\n",
    "\n",
    "# open and read the file after appending.\n",
    "file_txt3 = open(\"Sample 3.txt\", \"r\")\n",
    "print(file_txt3.read())"
   ]
  },
  {
   "cell_type": "code",
   "execution_count": 30,
   "metadata": {},
   "outputs": [
    {
     "name": "stdout",
     "output_type": "stream",
     "text": [
      "Best ! I am learning Data Science!\n"
     ]
    }
   ],
   "source": [
    "file_txt4 = open(\"Sample 4.txt\", \"w\")\n",
    "file_txt4.write(\"Best ! I am learning Data Science!\")\n",
    "file_txt4.close()\n",
    "\n",
    "# open and read the file after appending.\n",
    "file_txt4 = open(\"Sample 4.txt\", \"r\")\n",
    "print(file_txt4.read())"
   ]
  },
  {
   "cell_type": "code",
   "execution_count": null,
   "metadata": {},
   "outputs": [],
   "source": []
  },
  {
   "cell_type": "code",
   "execution_count": null,
   "metadata": {},
   "outputs": [],
   "source": []
  },
  {
   "cell_type": "code",
   "execution_count": null,
   "metadata": {},
   "outputs": [],
   "source": []
  },
  {
   "cell_type": "code",
   "execution_count": null,
   "metadata": {},
   "outputs": [],
   "source": []
  }
 ],
 "metadata": {
  "kernelspec": {
   "display_name": "Python 3",
   "language": "python",
   "name": "python3"
  },
  "language_info": {
   "codemirror_mode": {
    "name": "ipython",
    "version": 3
   },
   "file_extension": ".py",
   "mimetype": "text/x-python",
   "name": "python",
   "nbconvert_exporter": "python",
   "pygments_lexer": "ipython3",
   "version": "3.7.6"
  }
 },
 "nbformat": 4,
 "nbformat_minor": 4
}
